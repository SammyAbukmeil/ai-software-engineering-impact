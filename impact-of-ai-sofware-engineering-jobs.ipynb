{
 "cells": [
  {
   "cell_type": "markdown",
   "id": "8a2772a4",
   "metadata": {},
   "source": [
    "# How AI is impacting Software Engineering Jobs"
   ]
  },
  {
   "cell_type": "markdown",
   "id": "da0806e3",
   "metadata": {},
   "source": [
    "## Goals\n",
    "\n",
    "- Are AI tools, such as Chat GPT, impacting Software Engineering jobs?\n",
    "\n",
    "- Has the amount of job openings increased / decreased / stayed the same?"
   ]
  },
  {
   "cell_type": "markdown",
   "id": "94f988d5",
   "metadata": {},
   "source": [
    "# Hypothesis\n",
    "\n",
    "- Seasonal\n",
    "    - I think companies hire more at the start of the year, and it may fluctuate throughout the year\n",
    "\n",
    "- Short-term\n",
    "    - I don't think AI will reduce the need for software engineers in its current state (a human is still required to piece things together)\n",
    "\n",
    "- Long-term\n",
    "    - Perhaps AI tools will improve and the entry level software engineer jobs will be less available"
   ]
  },
  {
   "cell_type": "markdown",
   "id": "dd5bc969-e291-4e8a-bc72-ee68575a7578",
   "metadata": {},
   "source": [
    "## ChatGPT release date\n",
    "\n",
    "- Chat GPT, released **30th November 2022** ([Source](https://en.wikipedia.org/wiki/ChatGPT#:~:text=by%20OpenAI%20and-,launched%20on%20November%2030%2C%202022,-.%20Based%20on%20a))"
   ]
  },
  {
   "cell_type": "markdown",
   "id": "089c5574",
   "metadata": {},
   "source": [
    "## Dataset: FRED - Federal Reserve Bank of St. Louis"
   ]
  },
  {
   "cell_type": "markdown",
   "id": "4799a28f",
   "metadata": {},
   "source": [
    "[Software Development Job Postings on Indeed - United States](https://fred.stlouisfed.org/series/IHLIDXUSTPSOFTDEVE)\n",
    "- This dataset is limited to job postings on [Indeed](https://uk.indeed.com)\n",
    "- The units are **\"Index Feb, 1 2020=100, Seasonally Adjusted**\"\n",
    "    - This means that `100` is the value it was on Feb 1 2020, and all values are relative to point in time\n",
    "    - Sesonally Adjusted means it will take an average to remove peaks and troughs"
   ]
  },
  {
   "cell_type": "code",
   "execution_count": 33,
   "id": "563f760e",
   "metadata": {},
   "outputs": [
    {
     "data": {
      "text/html": [
       "<div>\n",
       "<style scoped>\n",
       "    .dataframe tbody tr th:only-of-type {\n",
       "        vertical-align: middle;\n",
       "    }\n",
       "\n",
       "    .dataframe tbody tr th {\n",
       "        vertical-align: top;\n",
       "    }\n",
       "\n",
       "    .dataframe thead th {\n",
       "        text-align: right;\n",
       "    }\n",
       "</style>\n",
       "<table border=\"1\" class=\"dataframe\">\n",
       "  <thead>\n",
       "    <tr style=\"text-align: right;\">\n",
       "      <th></th>\n",
       "      <th>IHLIDXUSTPSOFTDEVE</th>\n",
       "    </tr>\n",
       "    <tr>\n",
       "      <th>DATE</th>\n",
       "      <th></th>\n",
       "    </tr>\n",
       "  </thead>\n",
       "  <tbody>\n",
       "    <tr>\n",
       "      <th>2020-02-01</th>\n",
       "      <td>100.00</td>\n",
       "    </tr>\n",
       "    <tr>\n",
       "      <th>2020-02-02</th>\n",
       "      <td>99.75</td>\n",
       "    </tr>\n",
       "    <tr>\n",
       "      <th>2020-02-03</th>\n",
       "      <td>99.55</td>\n",
       "    </tr>\n",
       "    <tr>\n",
       "      <th>2020-02-04</th>\n",
       "      <td>99.29</td>\n",
       "    </tr>\n",
       "    <tr>\n",
       "      <th>2020-02-05</th>\n",
       "      <td>99.22</td>\n",
       "    </tr>\n",
       "  </tbody>\n",
       "</table>\n",
       "</div>"
      ],
      "text/plain": [
       "            IHLIDXUSTPSOFTDEVE\n",
       "DATE                          \n",
       "2020-02-01              100.00\n",
       "2020-02-02               99.75\n",
       "2020-02-03               99.55\n",
       "2020-02-04               99.29\n",
       "2020-02-05               99.22"
      ]
     },
     "execution_count": 33,
     "metadata": {},
     "output_type": "execute_result"
    }
   ],
   "source": [
    "import pandas as pd\n",
    "\n",
    "data = pd.read_csv(\n",
    "    \"./datasets/fred-software-development-jobs-indeed-us.csv\", \n",
    "    parse_dates=[0],\n",
    "    index_col=0\n",
    ")\n",
    "\n",
    "df = pd.DataFrame(data)\n",
    "\n",
    "df.head()"
   ]
  },
  {
   "cell_type": "code",
   "execution_count": 34,
   "id": "3f13ddde",
   "metadata": {},
   "outputs": [
    {
     "data": {
      "text/html": [
       "<div>\n",
       "<style scoped>\n",
       "    .dataframe tbody tr th:only-of-type {\n",
       "        vertical-align: middle;\n",
       "    }\n",
       "\n",
       "    .dataframe tbody tr th {\n",
       "        vertical-align: top;\n",
       "    }\n",
       "\n",
       "    .dataframe thead th {\n",
       "        text-align: right;\n",
       "    }\n",
       "</style>\n",
       "<table border=\"1\" class=\"dataframe\">\n",
       "  <thead>\n",
       "    <tr style=\"text-align: right;\">\n",
       "      <th></th>\n",
       "      <th>index</th>\n",
       "    </tr>\n",
       "    <tr>\n",
       "      <th>date</th>\n",
       "      <th></th>\n",
       "    </tr>\n",
       "  </thead>\n",
       "  <tbody>\n",
       "    <tr>\n",
       "      <th>2020-02-01</th>\n",
       "      <td>100.00</td>\n",
       "    </tr>\n",
       "    <tr>\n",
       "      <th>2020-02-02</th>\n",
       "      <td>99.75</td>\n",
       "    </tr>\n",
       "    <tr>\n",
       "      <th>2020-02-03</th>\n",
       "      <td>99.55</td>\n",
       "    </tr>\n",
       "    <tr>\n",
       "      <th>2020-02-04</th>\n",
       "      <td>99.29</td>\n",
       "    </tr>\n",
       "    <tr>\n",
       "      <th>2020-02-05</th>\n",
       "      <td>99.22</td>\n",
       "    </tr>\n",
       "    <tr>\n",
       "      <th>...</th>\n",
       "      <td>...</td>\n",
       "    </tr>\n",
       "    <tr>\n",
       "      <th>2024-01-01</th>\n",
       "      <td>73.82</td>\n",
       "    </tr>\n",
       "    <tr>\n",
       "      <th>2024-01-02</th>\n",
       "      <td>73.58</td>\n",
       "    </tr>\n",
       "    <tr>\n",
       "      <th>2024-01-03</th>\n",
       "      <td>73.40</td>\n",
       "    </tr>\n",
       "    <tr>\n",
       "      <th>2024-01-04</th>\n",
       "      <td>73.29</td>\n",
       "    </tr>\n",
       "    <tr>\n",
       "      <th>2024-01-05</th>\n",
       "      <td>73.07</td>\n",
       "    </tr>\n",
       "  </tbody>\n",
       "</table>\n",
       "<p>1435 rows × 1 columns</p>\n",
       "</div>"
      ],
      "text/plain": [
       "             index\n",
       "date              \n",
       "2020-02-01  100.00\n",
       "2020-02-02   99.75\n",
       "2020-02-03   99.55\n",
       "2020-02-04   99.29\n",
       "2020-02-05   99.22\n",
       "...            ...\n",
       "2024-01-01   73.82\n",
       "2024-01-02   73.58\n",
       "2024-01-03   73.40\n",
       "2024-01-04   73.29\n",
       "2024-01-05   73.07\n",
       "\n",
       "[1435 rows x 1 columns]"
      ]
     },
     "execution_count": 34,
     "metadata": {},
     "output_type": "execute_result"
    }
   ],
   "source": [
    "# Update column names\n",
    "(\n",
    "    df\n",
    "    .rename(columns={\"IHLIDXUSTPSOFTDEVE\":\"index\"})\n",
    "    .rename_axis('date')\n",
    ")"
   ]
  },
  {
   "cell_type": "code",
   "execution_count": 35,
   "id": "83d00d97",
   "metadata": {},
   "outputs": [
    {
     "data": {
      "image/png": "[encoded data removed]",
      "text/plain": [
       "<Figure size 1000x600 with 1 Axes>"
      ]
     },
     "metadata": {},
     "output_type": "display_data"
    }
   ],
   "source": [
    "import matplotlib.pyplot as plt\n",
    "\n",
    "plt.figure(figsize=(10,6))\n",
    "plt.plot(df, label=\"Index change\")\n",
    "\n",
    "# Add a line for the date when Chat GPT was released\n",
    "plt.axvline(pd.Timestamp('2022-11-30'),color='r')\n",
    "\n",
    "plt.xlabel(\"Date\")\n",
    "plt.ylabel(\"Index\")\n",
    "plt.legend()\n",
    "plt.show()"
   ]
  },
  {
   "cell_type": "markdown",
   "id": "74f4b5f4",
   "metadata": {},
   "source": [
    "The peek around 2022 might be due to hiring during Covid-19"
   ]
  },
  {
   "cell_type": "markdown",
   "id": "ed200a91-1ffc-4a03-9639-2c4fecde76a1",
   "metadata": {},
   "source": [
    "## Dataset: Nomis - Official Census and Labour Market Statistics"
   ]
  },
  {
   "cell_type": "markdown",
   "id": "705ee682-6016-4307-b302-c955f67d43d1",
   "metadata": {},
   "source": [
    "Nomis has a [Employment by occupation by sex](https://www.nomisweb.co.uk/datasets/aps218/reports/employment-by-occupation?compare=K02000001) dataset"
   ]
  },
  {
   "cell_type": "code",
   "execution_count": 36,
   "id": "2ab29418-de04-4dc7-a5df-530e8cbfbd56",
   "metadata": {},
   "outputs": [
    {
     "name": "stderr",
     "output_type": "stream",
     "text": [
      "/var/folders/m6/3l5d4lhn3vn14b8bzsfxs60r0000gn/T/ipykernel_1779/261583620.py:1: UserWarning: Could not infer format, so each element will be parsed individually, falling back to `dateutil`. To ensure parsing is consistent and as-expected, please specify a format.\n",
      "  data = pd.read_csv(\n"
     ]
    },
    {
     "data": {
      "text/html": [
       "<div>\n",
       "<style scoped>\n",
       "    .dataframe tbody tr th:only-of-type {\n",
       "        vertical-align: middle;\n",
       "    }\n",
       "\n",
       "    .dataframe tbody tr th {\n",
       "        vertical-align: top;\n",
       "    }\n",
       "\n",
       "    .dataframe thead th {\n",
       "        text-align: right;\n",
       "    }\n",
       "</style>\n",
       "<table border=\"1\" class=\"dataframe\">\n",
       "  <thead>\n",
       "    <tr style=\"text-align: right;\">\n",
       "      <th></th>\n",
       "      <th>United Kingdom</th>\n",
       "    </tr>\n",
       "    <tr>\n",
       "      <th>Date</th>\n",
       "      <th></th>\n",
       "    </tr>\n",
       "  </thead>\n",
       "  <tbody>\n",
       "    <tr>\n",
       "      <th>Jan 2021-Dec 2021</th>\n",
       "      <td>27238400</td>\n",
       "    </tr>\n",
       "    <tr>\n",
       "      <th>Apr 2021-Mar 2022</th>\n",
       "      <td>27379400</td>\n",
       "    </tr>\n",
       "    <tr>\n",
       "      <th>Jul 2021-Jun 2022</th>\n",
       "      <td>27514700</td>\n",
       "    </tr>\n",
       "    <tr>\n",
       "      <th>Oct 2021-Sep 2022</th>\n",
       "      <td>27566900</td>\n",
       "    </tr>\n",
       "    <tr>\n",
       "      <th>Jan 2022-Dec 2022</th>\n",
       "      <td>27643500</td>\n",
       "    </tr>\n",
       "    <tr>\n",
       "      <th>Apr 2022-Mar 2023</th>\n",
       "      <td>27653000</td>\n",
       "    </tr>\n",
       "    <tr>\n",
       "      <th>Jul 2022-Jun 2023</th>\n",
       "      <td>27676600</td>\n",
       "    </tr>\n",
       "    <tr>\n",
       "      <th>Oct 2022-Sep 2023</th>\n",
       "      <td>27763600</td>\n",
       "    </tr>\n",
       "  </tbody>\n",
       "</table>\n",
       "</div>"
      ],
      "text/plain": [
       "                   United Kingdom\n",
       "Date                             \n",
       "Jan 2021-Dec 2021        27238400\n",
       "Apr 2021-Mar 2022        27379400\n",
       "Jul 2021-Jun 2022        27514700\n",
       "Oct 2021-Sep 2022        27566900\n",
       "Jan 2022-Dec 2022        27643500\n",
       "Apr 2022-Mar 2023        27653000\n",
       "Jul 2022-Jun 2023        27676600\n",
       "Oct 2022-Sep 2023        27763600"
      ]
     },
     "execution_count": 36,
     "metadata": {},
     "output_type": "execute_result"
    }
   ],
   "source": [
    "data = pd.read_csv(\n",
    "    \"./datasets/employment-by-sex.csv\", \n",
    "    parse_dates=[0],\n",
    "    index_col=0\n",
    ")\n",
    "\n",
    "df = pd.DataFrame(data)\n",
    "\n",
    "df"
   ]
  },
  {
   "cell_type": "markdown",
   "id": "39d2f9e5-e5f7-4d81-94bd-b6bfbdb5c07f",
   "metadata": {},
   "source": [
    "The Nomis data seems to be a range.\n",
    "\n",
    "I wasn't able to find a suitable solution, so I decided to take the middle date from each row."
   ]
  },
  {
   "cell_type": "code",
   "execution_count": 37,
   "id": "6576fde7-3efd-4fd4-a245-256b631cae38",
   "metadata": {
    "scrolled": true
   },
   "outputs": [
    {
     "data": {
      "text/html": [
       "<div>\n",
       "<style scoped>\n",
       "    .dataframe tbody tr th:only-of-type {\n",
       "        vertical-align: middle;\n",
       "    }\n",
       "\n",
       "    .dataframe tbody tr th {\n",
       "        vertical-align: top;\n",
       "    }\n",
       "\n",
       "    .dataframe thead th {\n",
       "        text-align: right;\n",
       "    }\n",
       "</style>\n",
       "<table border=\"1\" class=\"dataframe\">\n",
       "  <thead>\n",
       "    <tr style=\"text-align: right;\">\n",
       "      <th></th>\n",
       "      <th>United Kingdom</th>\n",
       "    </tr>\n",
       "    <tr>\n",
       "      <th>Date</th>\n",
       "      <th></th>\n",
       "    </tr>\n",
       "  </thead>\n",
       "  <tbody>\n",
       "    <tr>\n",
       "      <th>2021-01-06</th>\n",
       "      <td>27238400</td>\n",
       "    </tr>\n",
       "    <tr>\n",
       "      <th>2021-01-09</th>\n",
       "      <td>27379400</td>\n",
       "    </tr>\n",
       "    <tr>\n",
       "      <th>2021-01-12</th>\n",
       "      <td>27514700</td>\n",
       "    </tr>\n",
       "    <tr>\n",
       "      <th>2022-01-03</th>\n",
       "      <td>27566900</td>\n",
       "    </tr>\n",
       "    <tr>\n",
       "      <th>2022-01-06</th>\n",
       "      <td>27643500</td>\n",
       "    </tr>\n",
       "    <tr>\n",
       "      <th>2022-01-09</th>\n",
       "      <td>27653000</td>\n",
       "    </tr>\n",
       "    <tr>\n",
       "      <th>2022-01-12</th>\n",
       "      <td>27676600</td>\n",
       "    </tr>\n",
       "    <tr>\n",
       "      <th>2023-01-03</th>\n",
       "      <td>27763600</td>\n",
       "    </tr>\n",
       "  </tbody>\n",
       "</table>\n",
       "</div>"
      ],
      "text/plain": [
       "            United Kingdom\n",
       "Date                      \n",
       "2021-01-06        27238400\n",
       "2021-01-09        27379400\n",
       "2021-01-12        27514700\n",
       "2022-01-03        27566900\n",
       "2022-01-06        27643500\n",
       "2022-01-09        27653000\n",
       "2022-01-12        27676600\n",
       "2023-01-03        27763600"
      ]
     },
     "execution_count": 37,
     "metadata": {},
     "output_type": "execute_result"
    }
   ],
   "source": [
    "data = pd.read_csv(\n",
    "    \"./datasets/employment-by-sex-middle.csv\", \n",
    "    parse_dates=[0],\n",
    "    index_col=0\n",
    ")\n",
    "\n",
    "df = pd.DataFrame(data)\n",
    "\n",
    "df"
   ]
  },
  {
   "cell_type": "code",
   "execution_count": 38,
   "id": "6f024799-ca04-4ace-8946-5a723dcde6b2",
   "metadata": {},
   "outputs": [
    {
     "data": {
      "text/html": [
       "<div>\n",
       "<style scoped>\n",
       "    .dataframe tbody tr th:only-of-type {\n",
       "        vertical-align: middle;\n",
       "    }\n",
       "\n",
       "    .dataframe tbody tr th {\n",
       "        vertical-align: top;\n",
       "    }\n",
       "\n",
       "    .dataframe thead th {\n",
       "        text-align: right;\n",
       "    }\n",
       "</style>\n",
       "<table border=\"1\" class=\"dataframe\">\n",
       "  <thead>\n",
       "    <tr style=\"text-align: right;\">\n",
       "      <th></th>\n",
       "      <th>software_engineers</th>\n",
       "    </tr>\n",
       "    <tr>\n",
       "      <th>date</th>\n",
       "      <th></th>\n",
       "    </tr>\n",
       "  </thead>\n",
       "  <tbody>\n",
       "    <tr>\n",
       "      <th>2021-01-06</th>\n",
       "      <td>27238400</td>\n",
       "    </tr>\n",
       "    <tr>\n",
       "      <th>2021-01-09</th>\n",
       "      <td>27379400</td>\n",
       "    </tr>\n",
       "    <tr>\n",
       "      <th>2021-01-12</th>\n",
       "      <td>27514700</td>\n",
       "    </tr>\n",
       "    <tr>\n",
       "      <th>2022-01-03</th>\n",
       "      <td>27566900</td>\n",
       "    </tr>\n",
       "    <tr>\n",
       "      <th>2022-01-06</th>\n",
       "      <td>27643500</td>\n",
       "    </tr>\n",
       "    <tr>\n",
       "      <th>2022-01-09</th>\n",
       "      <td>27653000</td>\n",
       "    </tr>\n",
       "    <tr>\n",
       "      <th>2022-01-12</th>\n",
       "      <td>27676600</td>\n",
       "    </tr>\n",
       "    <tr>\n",
       "      <th>2023-01-03</th>\n",
       "      <td>27763600</td>\n",
       "    </tr>\n",
       "  </tbody>\n",
       "</table>\n",
       "</div>"
      ],
      "text/plain": [
       "            software_engineers\n",
       "date                          \n",
       "2021-01-06            27238400\n",
       "2021-01-09            27379400\n",
       "2021-01-12            27514700\n",
       "2022-01-03            27566900\n",
       "2022-01-06            27643500\n",
       "2022-01-09            27653000\n",
       "2022-01-12            27676600\n",
       "2023-01-03            27763600"
      ]
     },
     "execution_count": 38,
     "metadata": {},
     "output_type": "execute_result"
    }
   ],
   "source": [
    "(\n",
    "    df\n",
    "    .rename(columns={\"United Kingdom\":\"software_engineers\"})\n",
    "    .rename_axis('date')\n",
    ")"
   ]
  },
  {
   "cell_type": "code",
   "execution_count": 39,
   "id": "39e83286-8932-449b-b6ba-c8a3a109710e",
   "metadata": {},
   "outputs": [
    {
     "data": {
      "image/png": "[encoded data removed]",
      "text/plain": [
       "<Figure size 1500x600 with 1 Axes>"
      ]
     },
     "metadata": {},
     "output_type": "display_data"
    }
   ],
   "source": [
    "plt.figure(figsize=(15,6))\n",
    "plt.plot(df, label=\"Count: Programmers & software development professionals\")\n",
    "\n",
    "# Add a line for the date when Chat GPT was released\n",
    "plt.axvline(pd.Timestamp('30-11-2022'),color='r')\n",
    "\n",
    "plt.xlabel(\"Date\")\n",
    "plt.ylabel(\"Count\")\n",
    "plt.legend()\n",
    "plt.show()"
   ]
  },
  {
   "cell_type": "markdown",
   "id": "3b9dd528-3b4f-4547-ba12-786021ee34a4",
   "metadata": {},
   "source": [
    "Due to the lack of data points, the graph is difficult to read."
   ]
  },
  {
   "cell_type": "markdown",
   "id": "dfe98a82-843a-4c45-aab8-8f07b3cf12fe",
   "metadata": {},
   "source": [
    "## Next steps\n",
    "\n",
    "- Compare against other job categories that aren't unaffected by AI\n",
    "- Decide on some variables to test e.g.\n",
    "    - Job openings\n",
    "    - Google search trends for the term \"Chat GPT\"\n",
    "- See if there's a correlation between these two variables"
   ]
  }
 ],
 "metadata": {
  "kernelspec": {
   "display_name": "Python 3 (ipykernel)",
   "language": "python",
   "name": "python3"
  },
  "language_info": {
   "codemirror_mode": {
    "name": "ipython",
    "version": 3
   },
   "file_extension": ".py",
   "mimetype": "text/x-python",
   "name": "python",
   "nbconvert_exporter": "python",
   "pygments_lexer": "ipython3",
   "version": "3.11.5"
  }
 },
 "nbformat": 4,
 "nbformat_minor": 5
}
