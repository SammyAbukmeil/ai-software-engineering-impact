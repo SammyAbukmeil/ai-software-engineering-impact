{
 "cells": [
  {
   "cell_type": "markdown",
   "id": "8a2772a4",
   "metadata": {},
   "source": [
    "# How AI is impacting Software Engineering Jobs"
   ]
  },
  {
   "cell_type": "markdown",
   "id": "da0806e3",
   "metadata": {},
   "source": [
    "## Goals\n",
    "\n",
    "- Are AI tools (e.g. Chat GPT, GitHub Copilot etc) impacting Software Engineering jobs?\n",
    "\n",
    "- Has the amount increased / decreased / stayed the same?"
   ]
  },
  {
   "cell_type": "markdown",
   "id": "94f988d5",
   "metadata": {},
   "source": [
    "# Hypothesis\n",
    "\n",
    "- Cyclical\n",
    "    - I think companies hire more at the start of the year, and it may fluctuate throughout the year\n",
    "\n",
    "- Short term\n",
    "    - I doubt AI will have reduced the need for software engineers in its current state (a human is still required to piece things together)\n",
    "\n",
    "- Long term\n",
    "    - Perhaps AI tools will improve and the entry level software engineer jobs will be less available (or the requirements for the role changes)"
   ]
  },
  {
   "cell_type": "markdown",
   "id": "973b9d20",
   "metadata": {},
   "source": [
    "## Approach\n",
    "- Metric\n",
    "    - The number of job openings over time\n",
    "\n",
    "- Test\n",
    "    - If it has changed after a certain point in time (when AI became more widely adopted)\n",
    "\n",
    "- Decide on what to comparison against\n",
    "    - A trend\n",
    "    - Other job categories that are plausibly unaffected by AI\n",
    "    - Pre-post AI comparison\n",
    "\n",
    "- Find Data\n",
    "    - Pinpoint when AI became a bigger topic\n",
    "    - Find recent dataset from which we can see job openings in a given time period + what we're comparing against\n",
    "\n",
    "- Bonus\n",
    "    - Predict future trends"
   ]
  },
  {
   "cell_type": "markdown",
   "id": "089c5574",
   "metadata": {},
   "source": [
    "## Raw Data Collection"
   ]
  },
  {
   "cell_type": "markdown",
   "id": "4799a28f",
   "metadata": {},
   "source": [
    "### FRED - Federal Reserve Bank of St. Louis\n",
    "\n",
    "[Software Development Job Postings on Indeed - United States](https://fred.stlouisfed.org/series/IHLIDXUSTPSOFTDEVE)\n",
    "\n",
    "[Software Development Job Postings on Indeed - United Kingdom](https://fred.stlouisfed.org/series/IHLIDXGBTPSOFTDEVE)\n",
    "\n",
    "There are few considerations for these datasets:\n",
    "- They're limited to job postings on [Indeed](https://uk.indeed.com)\n",
    "- The units are \"Index Feb, 1 2020=100, Seasonally Adjusted\" (more info on how this is calculated below)\n",
    "\n",
    "Note: FRED has a [page with information on how to understand the data](https://fredhelp.stlouisfed.org/#fred-data-understanding-the-data)"
   ]
  },
  {
   "cell_type": "code",
   "execution_count": 2,
   "id": "563f760e",
   "metadata": {},
   "outputs": [
    {
     "data": {
      "text/html": [
       "<div>\n",
       "<style scoped>\n",
       "    .dataframe tbody tr th:only-of-type {\n",
       "        vertical-align: middle;\n",
       "    }\n",
       "\n",
       "    .dataframe tbody tr th {\n",
       "        vertical-align: top;\n",
       "    }\n",
       "\n",
       "    .dataframe thead th {\n",
       "        text-align: right;\n",
       "    }\n",
       "</style>\n",
       "<table border=\"1\" class=\"dataframe\">\n",
       "  <thead>\n",
       "    <tr style=\"text-align: right;\">\n",
       "      <th></th>\n",
       "      <th>IHLIDXUSTPSOFTDEVE</th>\n",
       "    </tr>\n",
       "    <tr>\n",
       "      <th>DATE</th>\n",
       "      <th></th>\n",
       "    </tr>\n",
       "  </thead>\n",
       "  <tbody>\n",
       "    <tr>\n",
       "      <th>2020-02-01</th>\n",
       "      <td>100.00</td>\n",
       "    </tr>\n",
       "    <tr>\n",
       "      <th>2020-02-02</th>\n",
       "      <td>99.75</td>\n",
       "    </tr>\n",
       "    <tr>\n",
       "      <th>2020-02-03</th>\n",
       "      <td>99.55</td>\n",
       "    </tr>\n",
       "    <tr>\n",
       "      <th>2020-02-04</th>\n",
       "      <td>99.29</td>\n",
       "    </tr>\n",
       "    <tr>\n",
       "      <th>2020-02-05</th>\n",
       "      <td>99.22</td>\n",
       "    </tr>\n",
       "    <tr>\n",
       "      <th>...</th>\n",
       "      <td>...</td>\n",
       "    </tr>\n",
       "    <tr>\n",
       "      <th>2024-01-01</th>\n",
       "      <td>73.82</td>\n",
       "    </tr>\n",
       "    <tr>\n",
       "      <th>2024-01-02</th>\n",
       "      <td>73.58</td>\n",
       "    </tr>\n",
       "    <tr>\n",
       "      <th>2024-01-03</th>\n",
       "      <td>73.40</td>\n",
       "    </tr>\n",
       "    <tr>\n",
       "      <th>2024-01-04</th>\n",
       "      <td>73.29</td>\n",
       "    </tr>\n",
       "    <tr>\n",
       "      <th>2024-01-05</th>\n",
       "      <td>73.07</td>\n",
       "    </tr>\n",
       "  </tbody>\n",
       "</table>\n",
       "<p>1435 rows × 1 columns</p>\n",
       "</div>"
      ],
      "text/plain": [
       "            IHLIDXUSTPSOFTDEVE\n",
       "DATE                          \n",
       "2020-02-01              100.00\n",
       "2020-02-02               99.75\n",
       "2020-02-03               99.55\n",
       "2020-02-04               99.29\n",
       "2020-02-05               99.22\n",
       "...                        ...\n",
       "2024-01-01               73.82\n",
       "2024-01-02               73.58\n",
       "2024-01-03               73.40\n",
       "2024-01-04               73.29\n",
       "2024-01-05               73.07\n",
       "\n",
       "[1435 rows x 1 columns]"
      ]
     },
     "execution_count": 2,
     "metadata": {},
     "output_type": "execute_result"
    }
   ],
   "source": [
    "import pandas as pd\n",
    "\n",
    "raw_data = pd.read_csv(\n",
    "    \"./datasets/fred-software-development-jobs-indeed-us.csv\", \n",
    "    parse_dates=[0],\n",
    "    index_col=0\n",
    ")\n",
    "\n",
    "df = pd.DataFrame(raw_data)\n",
    "\n",
    "df"
   ]
  },
  {
   "cell_type": "markdown",
   "id": "720cce0b",
   "metadata": {},
   "source": [
    "The index is defined as:\n",
    "\n",
    "> Indeed calculates the index change in seasonally-adjusted job postings since February 1, 2020, the pre-pandemic baseline. Indeed seasonally adjusts each series based on historical patterns in 2017, 2018, and 2019. Each series, including the national trend, occupational sectors, and sub-national geographies, is seasonally adjusted separately. Indeed switched to this new methodology in December 2022 and now reports all historical data using this new methodology. Historical numbers have been revised and may differ significantly from originally reported values. The new methodology applies a detrended seasonal adjustment factor to the index change in job postings. For more information, see Frequently Asked Questions regarding Indeed Data."
   ]
  },
  {
   "cell_type": "markdown",
   "id": "332073c3",
   "metadata": {},
   "source": [
    "The column name for the index seems to be a code for this economic data, let's change it"
   ]
  },
  {
   "cell_type": "code",
   "execution_count": 4,
   "id": "3f13ddde",
   "metadata": {},
   "outputs": [
    {
     "data": {
      "text/html": [
       "<div>\n",
       "<style scoped>\n",
       "    .dataframe tbody tr th:only-of-type {\n",
       "        vertical-align: middle;\n",
       "    }\n",
       "\n",
       "    .dataframe tbody tr th {\n",
       "        vertical-align: top;\n",
       "    }\n",
       "\n",
       "    .dataframe thead th {\n",
       "        text-align: right;\n",
       "    }\n",
       "</style>\n",
       "<table border=\"1\" class=\"dataframe\">\n",
       "  <thead>\n",
       "    <tr style=\"text-align: right;\">\n",
       "      <th></th>\n",
       "      <th>index</th>\n",
       "    </tr>\n",
       "    <tr>\n",
       "      <th>date</th>\n",
       "      <th></th>\n",
       "    </tr>\n",
       "  </thead>\n",
       "  <tbody>\n",
       "    <tr>\n",
       "      <th>2020-02-01</th>\n",
       "      <td>100.00</td>\n",
       "    </tr>\n",
       "    <tr>\n",
       "      <th>2020-02-02</th>\n",
       "      <td>99.75</td>\n",
       "    </tr>\n",
       "    <tr>\n",
       "      <th>2020-02-03</th>\n",
       "      <td>99.55</td>\n",
       "    </tr>\n",
       "    <tr>\n",
       "      <th>2020-02-04</th>\n",
       "      <td>99.29</td>\n",
       "    </tr>\n",
       "    <tr>\n",
       "      <th>2020-02-05</th>\n",
       "      <td>99.22</td>\n",
       "    </tr>\n",
       "    <tr>\n",
       "      <th>...</th>\n",
       "      <td>...</td>\n",
       "    </tr>\n",
       "    <tr>\n",
       "      <th>2024-01-01</th>\n",
       "      <td>73.82</td>\n",
       "    </tr>\n",
       "    <tr>\n",
       "      <th>2024-01-02</th>\n",
       "      <td>73.58</td>\n",
       "    </tr>\n",
       "    <tr>\n",
       "      <th>2024-01-03</th>\n",
       "      <td>73.40</td>\n",
       "    </tr>\n",
       "    <tr>\n",
       "      <th>2024-01-04</th>\n",
       "      <td>73.29</td>\n",
       "    </tr>\n",
       "    <tr>\n",
       "      <th>2024-01-05</th>\n",
       "      <td>73.07</td>\n",
       "    </tr>\n",
       "  </tbody>\n",
       "</table>\n",
       "<p>1435 rows × 1 columns</p>\n",
       "</div>"
      ],
      "text/plain": [
       "             index\n",
       "date              \n",
       "2020-02-01  100.00\n",
       "2020-02-02   99.75\n",
       "2020-02-03   99.55\n",
       "2020-02-04   99.29\n",
       "2020-02-05   99.22\n",
       "...            ...\n",
       "2024-01-01   73.82\n",
       "2024-01-02   73.58\n",
       "2024-01-03   73.40\n",
       "2024-01-04   73.29\n",
       "2024-01-05   73.07\n",
       "\n",
       "[1435 rows x 1 columns]"
      ]
     },
     "execution_count": 4,
     "metadata": {},
     "output_type": "execute_result"
    }
   ],
   "source": [
    "(\n",
    "    df\n",
    "    .rename(columns={\"IHLIDXUSTPSOFTDEVE\":\"index\"})\n",
    "    .rename_axis('date')\n",
    ")"
   ]
  },
  {
   "cell_type": "code",
   "execution_count": 208,
   "id": "83d00d97",
   "metadata": {},
   "outputs": [
    {
     "data": {
      "image/png": "[encoded data removed]",
      "text/plain": [
       "<Figure size 1000x600 with 1 Axes>"
      ]
     },
     "metadata": {},
     "output_type": "display_data"
    }
   ],
   "source": [
    "import matplotlib.pyplot as plt\n",
    "\n",
    "plt.figure(figsize=(10,6))\n",
    "plt.plot(df, label=\"Index change (seasonally-adjusted job postings)\")\n",
    "plt.xlabel(\"Date\")\n",
    "plt.ylabel(\"Index\")\n",
    "plt.legend()\n",
    "plt.show()"
   ]
  },
  {
   "cell_type": "markdown",
   "id": "74f4b5f4",
   "metadata": {},
   "source": [
    "We see here that the software engineering job postings seem to peek in 2022"
   ]
  },
  {
   "cell_type": "markdown",
   "id": "7616d932",
   "metadata": {},
   "source": [
    "Next:\n",
    "- UK stats\n",
    "- When was AI mainstream\n",
    "- Other stats"
   ]
  }
 ],
 "metadata": {
  "kernelspec": {
   "display_name": "Python 3 (ipykernel)",
   "language": "python",
   "name": "python3"
  },
  "language_info": {
   "codemirror_mode": {
    "name": "ipython",
    "version": 3
   },
   "file_extension": ".py",
   "mimetype": "text/x-python",
   "name": "python",
   "nbconvert_exporter": "python",
   "pygments_lexer": "ipython3",
   "version": "3.11.5"
  }
 },
 "nbformat": 4,
 "nbformat_minor": 5
}
