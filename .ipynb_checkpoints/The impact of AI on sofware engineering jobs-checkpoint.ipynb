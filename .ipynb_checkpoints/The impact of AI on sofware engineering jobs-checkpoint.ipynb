{
 "cells": [
  {
   "cell_type": "markdown",
   "id": "cc1476e2",
   "metadata": {},
   "source": [
    "# Dataset\n",
    "\n",
    "https://www.kaggle.com/datasets/mexwell/us-software-engineer-jobs?resource=download"
   ]
  },
  {
   "cell_type": "markdown",
   "id": "fdfad29f",
   "metadata": {},
   "source": [
    "## Practice"
   ]
  },
  {
   "cell_type": "markdown",
   "id": "5aed78e7",
   "metadata": {},
   "source": [
    "### numpy - arrays\n",
    "\n",
    "The basic data objects in numpy are called `arrays` which are similar to `lists`.\n",
    "\n",
    "Difference is that numpy arrays are `typed` which makes **memory handling and computations with large arrays much more efficient** than plain python lists."
   ]
  },
  {
   "cell_type": "code",
   "execution_count": 7,
   "id": "776c5b61",
   "metadata": {},
   "outputs": [
    {
     "name": "stdout",
     "output_type": "stream",
     "text": [
      "[1 2 3 4 5]\n"
     ]
    }
   ],
   "source": [
    "import numpy as np\n",
    "\n",
    "array = np.array([1, 2, 3, 4, 5])\n",
    "print(array)"
   ]
  },
  {
   "cell_type": "code",
   "execution_count": 9,
   "id": "58a4078e",
   "metadata": {},
   "outputs": [
    {
     "name": "stdout",
     "output_type": "stream",
     "text": [
      "[[1 2 3]\n",
      " [4 5 6]\n",
      " [7 8 9]]\n"
     ]
    }
   ],
   "source": [
    "# Multidimension\n",
    "multi_dimensional_array = np.array([[1, 2, 3], [4, 5, 6], [7, 8, 9]])\n",
    "print(multi_dimensional_array)"
   ]
  },
  {
   "cell_type": "code",
   "execution_count": 11,
   "id": "782714a1",
   "metadata": {},
   "outputs": [
    {
     "name": "stdout",
     "output_type": "stream",
     "text": [
      "(3, 3)\n"
     ]
    }
   ],
   "source": [
    "# Get the shape (num of rows and columns)\n",
    "print(multi_dimensional_array.shape)"
   ]
  },
  {
   "cell_type": "code",
   "execution_count": 13,
   "id": "90d91222",
   "metadata": {},
   "outputs": [
    {
     "name": "stdout",
     "output_type": "stream",
     "text": [
      "[[1 2 3]\n",
      " [4 5 6]]\n"
     ]
    }
   ],
   "source": [
    "# Slicing (first two rows)\n",
    "print(multi_dimensional_array[:2])"
   ]
  },
  {
   "cell_type": "code",
   "execution_count": 15,
   "id": "c4becf49",
   "metadata": {},
   "outputs": [
    {
     "data": {
      "text/plain": [
       "array([[1, 3],\n",
       "       [4, 6],\n",
       "       [7, 9]])"
      ]
     },
     "execution_count": 15,
     "metadata": {},
     "output_type": "execute_result"
    }
   ],
   "source": [
    "# All rows, only columns 0 and 2\n",
    "multi_dimensional_array[:, [0, 2]]"
   ]
  },
  {
   "cell_type": "code",
   "execution_count": 16,
   "id": "aa7ca011",
   "metadata": {},
   "outputs": [
    {
     "name": "stdout",
     "output_type": "stream",
     "text": [
      "Mean: 5.0, Std: 2.581988897471611, Min: 1, Max: 9\n"
     ]
    }
   ],
   "source": [
    "# Universal functions\n",
    "\n",
    "mymean = np.mean(multi_dimensional_array)\n",
    "mystd = np.std(multi_dimensional_array)\n",
    "mymin = np.min(multi_dimensional_array)\n",
    "mymax = np.max(multi_dimensional_array)\n",
    "\n",
    "print(f'Mean: {mymean}, Std: {mystd}, Min: {mymin}, Max: {mymax}')"
   ]
  },
  {
   "cell_type": "code",
   "execution_count": 17,
   "id": "dd631432",
   "metadata": {},
   "outputs": [
    {
     "name": "stdout",
     "output_type": "stream",
     "text": [
      "Sum of rows: [12 15 18]\n",
      "Sum of columns: [ 6 15 24]\n"
     ]
    }
   ],
   "source": [
    "# Specify an axis (0 = rows, 1 = columns)\n",
    "\n",
    "print(\"Sum of rows:\", np.sum(multi_dimensional_array, axis=0))\n",
    "print(\"Sum of columns:\", np.sum(multi_dimensional_array, axis=1))"
   ]
  },
  {
   "cell_type": "markdown",
   "id": "67c13c70",
   "metadata": {},
   "source": [
    "### Pandas - Series & DataFrames\n",
    "\n",
    "Designed for working with tabular data.\n",
    "\n",
    "Pandas Series are a built on 1-dimensional NumPy arrays, but with the addition of an **index**. \n",
    "\n",
    "A Series is similar to a list, however we can specify an index of our choosing (similar to choosing keys for a `dictionary`). \n",
    "\n",
    "If we do not specify an index, it will revert to standard integer indexing."
   ]
  },
  {
   "cell_type": "code",
   "execution_count": 20,
   "id": "63b3a96f",
   "metadata": {},
   "outputs": [
    {
     "name": "stdout",
     "output_type": "stream",
     "text": [
      "0     2\n",
      "1     3\n",
      "2     5\n",
      "3     7\n",
      "4    11\n",
      "5    13\n",
      "dtype: int64\n"
     ]
    }
   ],
   "source": [
    "import pandas as pd\n",
    "\n",
    "s = pd.Series([2, 3, 5, 7, 11, 13])\n",
    "\n",
    "print(s)"
   ]
  },
  {
   "cell_type": "markdown",
   "id": "c3f6f42d",
   "metadata": {},
   "source": [
    "Carry on from Lesson 2 \"Pandas Series objects\""
   ]
  },
  {
   "cell_type": "code",
   "execution_count": null,
   "id": "84687fd6",
   "metadata": {},
   "outputs": [],
   "source": []
  },
  {
   "cell_type": "markdown",
   "id": "cebde623",
   "metadata": {},
   "source": [
    "# My Project Graphs etc"
   ]
  },
  {
   "cell_type": "code",
   "execution_count": null,
   "id": "22d31fe4",
   "metadata": {},
   "outputs": [],
   "source": []
  }
 ],
 "metadata": {
  "kernelspec": {
   "display_name": "Python 3 (ipykernel)",
   "language": "python",
   "name": "python3"
  },
  "language_info": {
   "codemirror_mode": {
    "name": "ipython",
    "version": 3
   },
   "file_extension": ".py",
   "mimetype": "text/x-python",
   "name": "python",
   "nbconvert_exporter": "python",
   "pygments_lexer": "ipython3",
   "version": "3.11.5"
  }
 },
 "nbformat": 4,
 "nbformat_minor": 5
}
